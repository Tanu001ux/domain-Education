{
 "cells": [
  {
   "cell_type": "code",
   "execution_count": 1,
   "id": "3920bd89",
   "metadata": {},
   "outputs": [],
   "source": [
    "#Module 4 \n",
    "#Case Study II\n",
    "#Domain –Education\n",
    "#focus – Data analysis\n",
    "#Business challenge/requirement\n",
    "#You are a data analyst with University of Cal USA (Not a machine learning expert yet as you still have not\n",
    "#completed ML with Python Course :-)).The University has data of Math, Physics and Data Structure score of sophomore\n",
    "#students. This data is stored in different files.\n",
    "#The University has hired a data science company to do analysis of scores and find if there is any correlation of\n",
    "#score with age, ethnicity etc. Before the data is given to the company you have to do data wrangling.\n",
    "#Key issues\n",
    "#Ensure students identify is not revealed to the agency and only relevant data is\n",
    "#shared\n",
    "#Considerations\n",
    "#NONE\n",
    "#Data volume-\n",
    "##In thousands, but only around 1800 records are shared in files MathScoreTerm1.csv  DSScoreTerm1.csv,\n",
    "#PhysicsScoreTerm1.csv\n",
    "#Additional information - NA\n",
    "#Business benefits\n",
    "#University can get more students enrollment by improving its international ranking through personalized\n",
    "#course/curriculum for students."
   ]
  },
  {
   "cell_type": "code",
   "execution_count": 2,
   "id": "2cf8f4c5",
   "metadata": {},
   "outputs": [
    {
     "name": "stdout",
     "output_type": "stream",
     "text": [
      "Correlation Analysis :\n",
      "                 Physics       Age     Maths  DataStructures\n",
      "Physics         1.000000 -0.012281  0.958925        0.976844\n",
      "Age            -0.012281  1.000000 -0.025183       -0.014399\n",
      "Maths           0.958925 -0.025183  1.000000        0.986002\n",
      "DataStructures  0.976844 -0.014399  0.986002        1.000000\n",
      "\n",
      "\n"
     ]
    },
    {
     "data": {
      "image/png": "[encoded data removed]",
      "text/plain": [
       "<Figure size 432x288 with 2 Axes>"
      ]
     },
     "metadata": {
      "needs_background": "light"
     },
     "output_type": "display_data"
    },
    {
     "name": "stdout",
     "output_type": "stream",
     "text": [
      "Correlation Matrix is complete\n",
      "\n",
      "\n"
     ]
    }
   ],
   "source": [
    "import pandas as pd\n",
    "import seaborn as sn\n",
    "import matplotlib.pyplot as plt\n",
    "\n",
    "df_MathScoreTerm1=pd.read_csv(\"MathScoreTerm1.csv\")\n",
    "df_DSScoreTerm1=pd.read_csv(\"DSScoreTerm1.csv\")\n",
    "df_PhysicsScoreTerm1=pd.read_csv(\"PhysicsScoreTerm1.csv\")\n",
    "\n",
    "#Using loc for replacing Ethinicity Column data\n",
    "\n",
    "df_MathScoreTerm1.loc[(df_MathScoreTerm1.Ethinicity == 'White American'),'Ethinicity']=1\n",
    "df_MathScoreTerm1.loc[(df_MathScoreTerm1.Ethinicity == 'European American'),'Ethinicity']=2\n",
    "df_MathScoreTerm1.loc[(df_MathScoreTerm1.Ethinicity == 'Hispanic'),'Ethinicity']=3\n",
    "df_MathScoreTerm1.loc[(df_MathScoreTerm1.Ethinicity == 'African American'),'Ethinicity']=4\n",
    "df_DSScoreTerm1.loc[(df_DSScoreTerm1.Ethinicity == 'White American'),'Ethinicity']=1\n",
    "df_DSScoreTerm1.loc[(df_DSScoreTerm1.Ethinicity == 'European American'),'Ethinicity']=2\n",
    "df_DSScoreTerm1.loc[(df_DSScoreTerm1.Ethinicity == 'Hispanic'),'Ethinicity']=3\n",
    "df_DSScoreTerm1.loc[(df_DSScoreTerm1.Ethinicity == 'African American'),'Ethinicity']=4\n",
    "df_PhysicsScoreTerm1.loc[(df_PhysicsScoreTerm1.Ethinicity == 'White American'),'Ethinicity']=1\n",
    "df_PhysicsScoreTerm1.loc[(df_PhysicsScoreTerm1.Ethinicity == 'European American'),'Ethinicity']=2\n",
    "df_PhysicsScoreTerm1.loc[(df_PhysicsScoreTerm1.Ethinicity == 'Hispanic'),'Ethinicity']=3\n",
    "df_PhysicsScoreTerm1.loc[(df_PhysicsScoreTerm1.Ethinicity == 'African American'),'Ethinicity']=4\n",
    "\n",
    "##Using loc for replacing Sex Column data\n",
    "\n",
    "df_DSScoreTerm1.loc[(df_DSScoreTerm1.Sex == 'M'),'Sex']=1\n",
    "df_DSScoreTerm1.loc[(df_DSScoreTerm1.Sex == 'F'),'Sex']=2\n",
    "df_MathScoreTerm1.loc[(df_MathScoreTerm1.Sex == 'M'),'Sex']=1\n",
    "df_MathScoreTerm1.loc[(df_MathScoreTerm1.Sex == 'F'),'Sex']=2\n",
    "df_PhysicsScoreTerm1.loc[(df_PhysicsScoreTerm1.Sex == 'M'),'Sex']=1\n",
    "df_PhysicsScoreTerm1.loc[(df_PhysicsScoreTerm1.Sex == 'F'),'Sex']=2\n",
    "\n",
    "##Updating Nulls with average marks\n",
    "\n",
    "v_avg_physics=round(df_PhysicsScoreTerm1[\"Score\"].mean(),0)\n",
    "v_avg_maths=round(df_MathScoreTerm1[\"Score\"].mean(),0)\n",
    "v_avg_ds=round(df_DSScoreTerm1[\"Score\"].mean(),0)\n",
    "\n",
    "df_PhysicsScoreTerm1['Score'] = df_PhysicsScoreTerm1.Score.fillna(v_avg_physics)\n",
    "df_MathScoreTerm1['Score'] = df_MathScoreTerm1.Score.fillna(v_avg_maths)\n",
    "df_DSScoreTerm1['Score'] = df_DSScoreTerm1.Score.fillna(v_avg_ds)\n",
    "\n",
    "##Renaming columns score\n",
    "\n",
    "df_PhysicsScoreTerm1.rename(columns = {'Score':'Physics'}, inplace = True)\n",
    "df_MathScoreTerm1.rename(columns = {'Score':'Maths'}, inplace = True)\n",
    "df_DSScoreTerm1.rename(columns = {'Score':'DataStructures'}, inplace = True)\n",
    "\n",
    "##Drop Columns\n",
    "df_PhysicsScoreTerm1.drop(['Name','Subject'], axis=1,inplace=True)\n",
    "df_MathScoreTerm1.drop(['Name','Subject'], axis=1,inplace=True)\n",
    "df_DSScoreTerm1.drop(['Name','Subject'], axis=1,inplace=True)\n",
    "\n",
    "##Merge all three files\n",
    "df_Phy_Mat=pd.merge(df_PhysicsScoreTerm1,df_MathScoreTerm1[['ID','Maths']],on='ID',how='inner')\n",
    "df_Phy_Mat_DS=pd.merge(df_Phy_Mat,df_DSScoreTerm1[['ID','DataStructures']],on='ID',how='inner')\n",
    "\n",
    "##Dropping ID\n",
    "df_Phy_Mat_DS.drop(['ID'], axis=1,inplace=True)\n",
    "\n",
    "##File_Creation\n",
    "df_Phy_Mat_DS.to_csv('ScoreFinal.csv', header=True, index=False)\n",
    "\n",
    "###Changing Datatype\n",
    "#\n",
    "# df_Phy_Mat_DS['Ethinicity']=df_Phy_Mat_DS['Ethinicity'].astype(str).astype(int)\n",
    "# df_Phy_Mat_DS['Sex']=df_Phy_Mat_DS['Sex'].astype(str).astype(int)\n",
    "\n",
    "##Correlation Analysis\n",
    "df_Phy_Mat_DS_corr_matrix=df_Phy_Mat_DS.corr()\n",
    "print('Correlation Analysis :')\n",
    "print(df_Phy_Mat_DS_corr_matrix)\n",
    "print('\\n')\n",
    "\n",
    "##Correlation Matrix\n",
    "sn.heatmap(df_Phy_Mat_DS_corr_matrix,annot=True)\n",
    "plt.show()\n",
    "print('Correlation Matrix is complete')\n",
    "print('\\n')"
   ]
  },
  {
   "cell_type": "code",
   "execution_count": null,
   "id": "dd49ea53",
   "metadata": {},
   "outputs": [],
   "source": []
  }
 ],
 "metadata": {
  "kernelspec": {
   "display_name": "Python 3 (ipykernel)",
   "language": "python",
   "name": "python3"
  },
  "language_info": {
   "codemirror_mode": {
    "name": "ipython",
    "version": 3
   },
   "file_extension": ".py",
   "mimetype": "text/x-python",
   "name": "python",
   "nbconvert_exporter": "python",
   "pygments_lexer": "ipython3",
   "version": "3.9.12"
  }
 },
 "nbformat": 4,
 "nbformat_minor": 5
}
